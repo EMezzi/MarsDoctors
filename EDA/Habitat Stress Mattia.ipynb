{
 "cells": [
  {
   "cell_type": "code",
   "execution_count": 1,
   "id": "368657b8",
   "metadata": {},
   "outputs": [],
   "source": [
    "import numpy as np\n",
    "import pandas as pd\n",
    "import matplotlib.pyplot as plt\n",
    "import seaborn as sns\n",
    "\n",
    "plt.style.use('bmh')"
   ]
  },
  {
   "cell_type": "markdown",
   "id": "5980038c",
   "metadata": {},
   "source": [
    "## EDA"
   ]
  },
  {
   "cell_type": "markdown",
   "id": "a168fc8a",
   "metadata": {},
   "source": [
    ":)"
   ]
  },
  {
   "cell_type": "markdown",
   "id": "74dc9ba6",
   "metadata": {},
   "source": [
    "\"SBP\" typically stands for \"systolic blood pressure,\" which is the highest pressure reached in the arteries during each heartbeat.\n",
    "\n",
    "\"DBP\" typically stands for \"diastolic blood pressure,\" which is the lowest pressure reached in the arteries between heartbeats.\n",
    "\n",
    "\"STAI\": State-Trait Anxiety Inventory score\n",
    "\n",
    "\"PM2.5\": concentration of fine particulate matter (particles with diameter of 2.5 micrometers or less) in the air"
   ]
  },
  {
   "cell_type": "code",
   "execution_count": 2,
   "id": "1b33c95b",
   "metadata": {},
   "outputs": [
    {
     "name": "stdout",
     "output_type": "stream",
     "text": [
      "Habitat Stress Mattia.ipynb  Restorative_Cate.csv\r\n",
      "Habitat_Stress.csv           Restorative_Conti.csv\r\n"
     ]
    }
   ],
   "source": [
    "%ls"
   ]
  },
  {
   "cell_type": "code",
   "execution_count": 3,
   "id": "1f22517c",
   "metadata": {
    "scrolled": false,
    "pycharm": {
     "name": "#%%\n"
    }
   },
   "outputs": [
    {
     "data": {
      "text/html": [
       "<div>\n",
       "<style scoped>\n",
       "    .dataframe tbody tr th:only-of-type {\n",
       "        vertical-align: middle;\n",
       "    }\n",
       "\n",
       "    .dataframe tbody tr th {\n",
       "        vertical-align: top;\n",
       "    }\n",
       "\n",
       "    .dataframe thead th {\n",
       "        text-align: right;\n",
       "    }\n",
       "</style>\n",
       "<table border=\"1\" class=\"dataframe\">\n",
       "  <thead>\n",
       "    <tr style=\"text-align: right;\">\n",
       "      <th></th>\n",
       "      <th>ID</th>\n",
       "      <th>Setting</th>\n",
       "      <th>Post</th>\n",
       "      <th>SBP</th>\n",
       "      <th>DBP</th>\n",
       "      <th>STAI</th>\n",
       "      <th>PM2.5</th>\n",
       "      <th>Temp</th>\n",
       "      <th>Rh</th>\n",
       "      <th>CO2</th>\n",
       "      <th>...</th>\n",
       "      <th>Stresslevel</th>\n",
       "      <th>Stress_or_not_after_test</th>\n",
       "      <th>Which_part_first</th>\n",
       "      <th>Which_part_stress_most</th>\n",
       "      <th>VR_experience</th>\n",
       "      <th>Experience_Nature</th>\n",
       "      <th>Scence_1</th>\n",
       "      <th>Scence_2</th>\n",
       "      <th>Scence_3</th>\n",
       "      <th>Scence_4</th>\n",
       "    </tr>\n",
       "  </thead>\n",
       "  <tbody>\n",
       "    <tr>\n",
       "      <th>0</th>\n",
       "      <td>1</td>\n",
       "      <td>1</td>\n",
       "      <td>0</td>\n",
       "      <td>118</td>\n",
       "      <td>76</td>\n",
       "      <td></td>\n",
       "      <td>0.0</td>\n",
       "      <td>19.5</td>\n",
       "      <td>39.8</td>\n",
       "      <td>658</td>\n",
       "      <td>...</td>\n",
       "      <td>2</td>\n",
       "      <td>Yes</td>\n",
       "      <td>1</td>\n",
       "      <td>2</td>\n",
       "      <td>Less than 3 times</td>\n",
       "      <td>4</td>\n",
       "      <td>4.0</td>\n",
       "      <td>3.0</td>\n",
       "      <td>1.0</td>\n",
       "      <td>2.0</td>\n",
       "    </tr>\n",
       "    <tr>\n",
       "      <th>1</th>\n",
       "      <td>1</td>\n",
       "      <td>1</td>\n",
       "      <td>1</td>\n",
       "      <td>115</td>\n",
       "      <td>74</td>\n",
       "      <td></td>\n",
       "      <td>0.0</td>\n",
       "      <td>19.5</td>\n",
       "      <td>39.8</td>\n",
       "      <td>658</td>\n",
       "      <td>...</td>\n",
       "      <td>2</td>\n",
       "      <td>Yes</td>\n",
       "      <td>1</td>\n",
       "      <td>2</td>\n",
       "      <td>Less than 3 times</td>\n",
       "      <td>4</td>\n",
       "      <td>4.0</td>\n",
       "      <td>3.0</td>\n",
       "      <td>1.0</td>\n",
       "      <td>2.0</td>\n",
       "    </tr>\n",
       "    <tr>\n",
       "      <th>2</th>\n",
       "      <td>1</td>\n",
       "      <td>1</td>\n",
       "      <td>2</td>\n",
       "      <td>115</td>\n",
       "      <td>76</td>\n",
       "      <td>2.833</td>\n",
       "      <td>0.0</td>\n",
       "      <td>19.5</td>\n",
       "      <td>39.8</td>\n",
       "      <td>658</td>\n",
       "      <td>...</td>\n",
       "      <td>2</td>\n",
       "      <td>Yes</td>\n",
       "      <td>1</td>\n",
       "      <td>2</td>\n",
       "      <td>Less than 3 times</td>\n",
       "      <td>4</td>\n",
       "      <td>4.0</td>\n",
       "      <td>3.0</td>\n",
       "      <td>1.0</td>\n",
       "      <td>2.0</td>\n",
       "    </tr>\n",
       "    <tr>\n",
       "      <th>3</th>\n",
       "      <td>1</td>\n",
       "      <td>1</td>\n",
       "      <td>3</td>\n",
       "      <td>113</td>\n",
       "      <td>76</td>\n",
       "      <td>2.833</td>\n",
       "      <td>0.0</td>\n",
       "      <td>19.5</td>\n",
       "      <td>39.8</td>\n",
       "      <td>658</td>\n",
       "      <td>...</td>\n",
       "      <td>2</td>\n",
       "      <td>Yes</td>\n",
       "      <td>1</td>\n",
       "      <td>2</td>\n",
       "      <td>Less than 3 times</td>\n",
       "      <td>4</td>\n",
       "      <td>4.0</td>\n",
       "      <td>3.0</td>\n",
       "      <td>1.0</td>\n",
       "      <td>2.0</td>\n",
       "    </tr>\n",
       "    <tr>\n",
       "      <th>4</th>\n",
       "      <td>2</td>\n",
       "      <td>2</td>\n",
       "      <td>0</td>\n",
       "      <td>101</td>\n",
       "      <td>66</td>\n",
       "      <td></td>\n",
       "      <td>0.0</td>\n",
       "      <td>21.7</td>\n",
       "      <td>37.0</td>\n",
       "      <td>640</td>\n",
       "      <td>...</td>\n",
       "      <td>1</td>\n",
       "      <td>No</td>\n",
       "      <td>2</td>\n",
       "      <td>1</td>\n",
       "      <td>More than 10 times</td>\n",
       "      <td>3</td>\n",
       "      <td>3.0</td>\n",
       "      <td>4.0</td>\n",
       "      <td>1.0</td>\n",
       "      <td>2.0</td>\n",
       "    </tr>\n",
       "  </tbody>\n",
       "</table>\n",
       "<p>5 rows × 27 columns</p>\n",
       "</div>"
      ],
      "text/plain": [
       "   ID  Setting  Post  SBP  DBP   STAI  PM2.5  Temp    Rh  CO2  ...  \\\n",
       "0   1        1     0  118   76           0.0  19.5  39.8  658  ...   \n",
       "1   1        1     1  115   74           0.0  19.5  39.8  658  ...   \n",
       "2   1        1     2  115   76  2.833    0.0  19.5  39.8  658  ...   \n",
       "3   1        1     3  113   76  2.833    0.0  19.5  39.8  658  ...   \n",
       "4   2        2     0  101   66           0.0  21.7  37.0  640  ...   \n",
       "\n",
       "   Stresslevel Stress_or_not_after_test Which_part_first  \\\n",
       "0            2                      Yes                1   \n",
       "1            2                      Yes                1   \n",
       "2            2                      Yes                1   \n",
       "3            2                      Yes                1   \n",
       "4            1                       No                2   \n",
       "\n",
       "  Which_part_stress_most       VR_experience Experience_Nature Scence_1  \\\n",
       "0                      2   Less than 3 times                 4      4.0   \n",
       "1                      2   Less than 3 times                 4      4.0   \n",
       "2                      2   Less than 3 times                 4      4.0   \n",
       "3                      2   Less than 3 times                 4      4.0   \n",
       "4                      1  More than 10 times                 3      3.0   \n",
       "\n",
       "   Scence_2 Scence_3  Scence_4  \n",
       "0       3.0      1.0       2.0  \n",
       "1       3.0      1.0       2.0  \n",
       "2       3.0      1.0       2.0  \n",
       "3       3.0      1.0       2.0  \n",
       "4       4.0      1.0       2.0  \n",
       "\n",
       "[5 rows x 27 columns]"
      ]
     },
     "execution_count": 3,
     "metadata": {},
     "output_type": "execute_result"
    }
   ],
   "source": [
    "df = pd.read_csv('Restorative_Cate.csv')\n",
    "df.head()"
   ]
  },
  {
   "cell_type": "code",
   "execution_count": 4,
   "id": "810d9f7f",
   "metadata": {},
   "outputs": [
    {
     "name": "stdout",
     "output_type": "stream",
     "text": [
      "yes: 100\n",
      "no: 44\n"
     ]
    }
   ],
   "source": [
    "#Stresslevel takes values from 1 to 4. I though that 1,2 values of \"stresslevel\" indicated \n",
    "#Stress_or_not_after_test == \"No\", while for 3,4 Stress_or_not_after_test == \"Yes\"\n",
    "print(\"yes:\", (df[df[\"Stresslevel\"]>=3][\"Stress_or_not_after_test\"]==\"Yes\").sum())\n",
    "print(\"no:\", (df[df[\"Stresslevel\"]>=3][\"Stress_or_not_after_test\"]==\"No\").sum())\n",
    "#apparently this is not the case, weird but let's forget about Stress_or_not_after_test and focus only on Stresslevel"
   ]
  },
  {
   "cell_type": "code",
   "execution_count": 5,
   "id": "2919a691",
   "metadata": {},
   "outputs": [
    {
     "data": {
      "text/plain": [
       "array(['Caffinebeverage', 'Stresslevel', 'Stress_or_not_after_test',\n",
       "       'Which_part_first', 'Which_part_stress_most', 'VR_experience',\n",
       "       'Experience_Nature', 'Scence_1', 'Scence_2', 'Scence_3',\n",
       "       'Scence_4'], dtype=object)"
      ]
     },
     "execution_count": 5,
     "metadata": {},
     "output_type": "execute_result"
    }
   ],
   "source": [
    "df.columns[16:].values"
   ]
  },
  {
   "cell_type": "code",
   "execution_count": 6,
   "id": "7d43853d",
   "metadata": {
    "scrolled": false
   },
   "outputs": [
    {
     "name": "stdout",
     "output_type": "stream",
     "text": [
      "['Stress_or_not_after_test' 'Which_part_first' 'Which_part_stress_most'\n",
      " 'VR_experience' 'Experience_Nature' 'Scence_1' 'Scence_2' 'Scence_3'\n",
      " 'Scence_4']\n"
     ]
    },
    {
     "data": {
      "text/html": [
       "<div>\n",
       "<style scoped>\n",
       "    .dataframe tbody tr th:only-of-type {\n",
       "        vertical-align: middle;\n",
       "    }\n",
       "\n",
       "    .dataframe tbody tr th {\n",
       "        vertical-align: top;\n",
       "    }\n",
       "\n",
       "    .dataframe thead th {\n",
       "        text-align: right;\n",
       "    }\n",
       "</style>\n",
       "<table border=\"1\" class=\"dataframe\">\n",
       "  <thead>\n",
       "    <tr style=\"text-align: right;\">\n",
       "      <th></th>\n",
       "      <th>ID</th>\n",
       "      <th>SBP</th>\n",
       "      <th>DBP</th>\n",
       "      <th>PM2.5</th>\n",
       "      <th>Temp</th>\n",
       "      <th>Rh</th>\n",
       "      <th>CO2</th>\n",
       "      <th>Age</th>\n",
       "      <th>Sex</th>\n",
       "      <th>ethnic</th>\n",
       "      <th>Healthcondition</th>\n",
       "      <th>Medicine</th>\n",
       "      <th>Sleep</th>\n",
       "      <th>Caffinebeverage</th>\n",
       "      <th>Stresslevel</th>\n",
       "    </tr>\n",
       "  </thead>\n",
       "  <tbody>\n",
       "    <tr>\n",
       "      <th>0</th>\n",
       "      <td>1</td>\n",
       "      <td>118</td>\n",
       "      <td>76</td>\n",
       "      <td>0.0</td>\n",
       "      <td>19.5</td>\n",
       "      <td>39.8</td>\n",
       "      <td>658</td>\n",
       "      <td>26</td>\n",
       "      <td>Male</td>\n",
       "      <td>White/Caucasian</td>\n",
       "      <td>Very good</td>\n",
       "      <td>No</td>\n",
       "      <td>No</td>\n",
       "      <td>No</td>\n",
       "      <td>2</td>\n",
       "    </tr>\n",
       "    <tr>\n",
       "      <th>1</th>\n",
       "      <td>1</td>\n",
       "      <td>115</td>\n",
       "      <td>74</td>\n",
       "      <td>0.0</td>\n",
       "      <td>19.5</td>\n",
       "      <td>39.8</td>\n",
       "      <td>658</td>\n",
       "      <td>26</td>\n",
       "      <td>Male</td>\n",
       "      <td>White/Caucasian</td>\n",
       "      <td>Very good</td>\n",
       "      <td>No</td>\n",
       "      <td>No</td>\n",
       "      <td>No</td>\n",
       "      <td>2</td>\n",
       "    </tr>\n",
       "    <tr>\n",
       "      <th>2</th>\n",
       "      <td>1</td>\n",
       "      <td>115</td>\n",
       "      <td>76</td>\n",
       "      <td>0.0</td>\n",
       "      <td>19.5</td>\n",
       "      <td>39.8</td>\n",
       "      <td>658</td>\n",
       "      <td>26</td>\n",
       "      <td>Male</td>\n",
       "      <td>White/Caucasian</td>\n",
       "      <td>Very good</td>\n",
       "      <td>No</td>\n",
       "      <td>No</td>\n",
       "      <td>No</td>\n",
       "      <td>2</td>\n",
       "    </tr>\n",
       "    <tr>\n",
       "      <th>3</th>\n",
       "      <td>1</td>\n",
       "      <td>113</td>\n",
       "      <td>76</td>\n",
       "      <td>0.0</td>\n",
       "      <td>19.5</td>\n",
       "      <td>39.8</td>\n",
       "      <td>658</td>\n",
       "      <td>26</td>\n",
       "      <td>Male</td>\n",
       "      <td>White/Caucasian</td>\n",
       "      <td>Very good</td>\n",
       "      <td>No</td>\n",
       "      <td>No</td>\n",
       "      <td>No</td>\n",
       "      <td>2</td>\n",
       "    </tr>\n",
       "    <tr>\n",
       "      <th>4</th>\n",
       "      <td>2</td>\n",
       "      <td>101</td>\n",
       "      <td>66</td>\n",
       "      <td>0.0</td>\n",
       "      <td>21.7</td>\n",
       "      <td>37.0</td>\n",
       "      <td>640</td>\n",
       "      <td>30</td>\n",
       "      <td>Female</td>\n",
       "      <td>Multiracial</td>\n",
       "      <td>Excellent</td>\n",
       "      <td>No</td>\n",
       "      <td>Yes</td>\n",
       "      <td>No</td>\n",
       "      <td>1</td>\n",
       "    </tr>\n",
       "  </tbody>\n",
       "</table>\n",
       "</div>"
      ],
      "text/plain": [
       "   ID  SBP  DBP  PM2.5  Temp    Rh  CO2  Age     Sex           ethnic  \\\n",
       "0   1  118   76    0.0  19.5  39.8  658   26    Male  White/Caucasian   \n",
       "1   1  115   74    0.0  19.5  39.8  658   26    Male  White/Caucasian   \n",
       "2   1  115   76    0.0  19.5  39.8  658   26    Male  White/Caucasian   \n",
       "3   1  113   76    0.0  19.5  39.8  658   26    Male  White/Caucasian   \n",
       "4   2  101   66    0.0  21.7  37.0  640   30  Female      Multiracial   \n",
       "\n",
       "  Healthcondition Medicine Sleep Caffinebeverage  Stresslevel  \n",
       "0       Very good       No    No              No            2  \n",
       "1       Very good       No    No              No            2  \n",
       "2       Very good       No    No              No            2  \n",
       "3       Very good       No    No              No            2  \n",
       "4       Excellent       No   Yes              No            1  "
      ]
     },
     "execution_count": 6,
     "metadata": {},
     "output_type": "execute_result"
    }
   ],
   "source": [
    "df = df.drop(columns=[\"Setting\", \"Post\", \"STAI\"])\n",
    "print(df.columns[15:].values)\n",
    "df = df.drop(columns= df.columns[15:].values)\n",
    "df.head()"
   ]
  },
  {
   "cell_type": "code",
   "execution_count": 7,
   "id": "b16b8521",
   "metadata": {
    "scrolled": true
   },
   "outputs": [
    {
     "data": {
      "text/html": [
       "<div>\n",
       "<style scoped>\n",
       "    .dataframe tbody tr th:only-of-type {\n",
       "        vertical-align: middle;\n",
       "    }\n",
       "\n",
       "    .dataframe tbody tr th {\n",
       "        vertical-align: top;\n",
       "    }\n",
       "\n",
       "    .dataframe thead th {\n",
       "        text-align: right;\n",
       "    }\n",
       "</style>\n",
       "<table border=\"1\" class=\"dataframe\">\n",
       "  <thead>\n",
       "    <tr style=\"text-align: right;\">\n",
       "      <th></th>\n",
       "      <th>ID</th>\n",
       "      <th>SBP</th>\n",
       "      <th>DBP</th>\n",
       "      <th>PM2.5</th>\n",
       "      <th>Temp</th>\n",
       "      <th>Rh</th>\n",
       "      <th>CO2</th>\n",
       "      <th>Age</th>\n",
       "      <th>Stresslevel</th>\n",
       "    </tr>\n",
       "  </thead>\n",
       "  <tbody>\n",
       "    <tr>\n",
       "      <th>count</th>\n",
       "      <td>400.00000</td>\n",
       "      <td>400.000000</td>\n",
       "      <td>400.000000</td>\n",
       "      <td>400.000000</td>\n",
       "      <td>400.000000</td>\n",
       "      <td>400.000000</td>\n",
       "      <td>400.000000</td>\n",
       "      <td>400.000000</td>\n",
       "      <td>400.000000</td>\n",
       "    </tr>\n",
       "    <tr>\n",
       "      <th>mean</th>\n",
       "      <td>50.50000</td>\n",
       "      <td>115.692500</td>\n",
       "      <td>75.995000</td>\n",
       "      <td>0.324000</td>\n",
       "      <td>21.344000</td>\n",
       "      <td>36.742000</td>\n",
       "      <td>715.970000</td>\n",
       "      <td>29.190000</td>\n",
       "      <td>2.200000</td>\n",
       "    </tr>\n",
       "    <tr>\n",
       "      <th>std</th>\n",
       "      <td>28.90222</td>\n",
       "      <td>12.378247</td>\n",
       "      <td>10.838064</td>\n",
       "      <td>0.551893</td>\n",
       "      <td>1.150641</td>\n",
       "      <td>9.943753</td>\n",
       "      <td>120.597963</td>\n",
       "      <td>11.794986</td>\n",
       "      <td>0.917663</td>\n",
       "    </tr>\n",
       "    <tr>\n",
       "      <th>min</th>\n",
       "      <td>1.00000</td>\n",
       "      <td>83.000000</td>\n",
       "      <td>51.000000</td>\n",
       "      <td>0.000000</td>\n",
       "      <td>18.800000</td>\n",
       "      <td>20.000000</td>\n",
       "      <td>283.000000</td>\n",
       "      <td>18.000000</td>\n",
       "      <td>1.000000</td>\n",
       "    </tr>\n",
       "    <tr>\n",
       "      <th>25%</th>\n",
       "      <td>25.75000</td>\n",
       "      <td>107.750000</td>\n",
       "      <td>70.000000</td>\n",
       "      <td>0.000000</td>\n",
       "      <td>20.475000</td>\n",
       "      <td>29.100000</td>\n",
       "      <td>634.500000</td>\n",
       "      <td>21.000000</td>\n",
       "      <td>1.750000</td>\n",
       "    </tr>\n",
       "    <tr>\n",
       "      <th>50%</th>\n",
       "      <td>50.50000</td>\n",
       "      <td>114.000000</td>\n",
       "      <td>75.000000</td>\n",
       "      <td>0.000000</td>\n",
       "      <td>21.400000</td>\n",
       "      <td>37.000000</td>\n",
       "      <td>700.500000</td>\n",
       "      <td>26.000000</td>\n",
       "      <td>2.000000</td>\n",
       "    </tr>\n",
       "    <tr>\n",
       "      <th>75%</th>\n",
       "      <td>75.25000</td>\n",
       "      <td>122.000000</td>\n",
       "      <td>81.000000</td>\n",
       "      <td>0.200000</td>\n",
       "      <td>22.100000</td>\n",
       "      <td>41.925000</td>\n",
       "      <td>789.000000</td>\n",
       "      <td>33.250000</td>\n",
       "      <td>3.000000</td>\n",
       "    </tr>\n",
       "    <tr>\n",
       "      <th>max</th>\n",
       "      <td>100.00000</td>\n",
       "      <td>175.000000</td>\n",
       "      <td>123.000000</td>\n",
       "      <td>3.000000</td>\n",
       "      <td>23.600000</td>\n",
       "      <td>60.600000</td>\n",
       "      <td>1117.000000</td>\n",
       "      <td>73.000000</td>\n",
       "      <td>4.000000</td>\n",
       "    </tr>\n",
       "  </tbody>\n",
       "</table>\n",
       "</div>"
      ],
      "text/plain": [
       "              ID         SBP         DBP       PM2.5        Temp          Rh  \\\n",
       "count  400.00000  400.000000  400.000000  400.000000  400.000000  400.000000   \n",
       "mean    50.50000  115.692500   75.995000    0.324000   21.344000   36.742000   \n",
       "std     28.90222   12.378247   10.838064    0.551893    1.150641    9.943753   \n",
       "min      1.00000   83.000000   51.000000    0.000000   18.800000   20.000000   \n",
       "25%     25.75000  107.750000   70.000000    0.000000   20.475000   29.100000   \n",
       "50%     50.50000  114.000000   75.000000    0.000000   21.400000   37.000000   \n",
       "75%     75.25000  122.000000   81.000000    0.200000   22.100000   41.925000   \n",
       "max    100.00000  175.000000  123.000000    3.000000   23.600000   60.600000   \n",
       "\n",
       "               CO2         Age  Stresslevel  \n",
       "count   400.000000  400.000000   400.000000  \n",
       "mean    715.970000   29.190000     2.200000  \n",
       "std     120.597963   11.794986     0.917663  \n",
       "min     283.000000   18.000000     1.000000  \n",
       "25%     634.500000   21.000000     1.750000  \n",
       "50%     700.500000   26.000000     2.000000  \n",
       "75%     789.000000   33.250000     3.000000  \n",
       "max    1117.000000   73.000000     4.000000  "
      ]
     },
     "execution_count": 7,
     "metadata": {},
     "output_type": "execute_result"
    }
   ],
   "source": [
    "df.describe()"
   ]
  },
  {
   "cell_type": "code",
   "execution_count": 8,
   "id": "fb903aa5",
   "metadata": {},
   "outputs": [],
   "source": [
    "#make stress level range [0,3] instead of [1,4]. This is done to match the stress sleep dataset\n",
    "df[\"Stresslevel\"]-=1"
   ]
  },
  {
   "cell_type": "markdown",
   "id": "57478f71",
   "metadata": {},
   "source": [
    "### Mapping non numerical variables"
   ]
  },
  {
   "cell_type": "markdown",
   "id": "ce841f77",
   "metadata": {},
   "source": [
    "sex"
   ]
  },
  {
   "cell_type": "code",
   "execution_count": 9,
   "id": "8f3a333b",
   "metadata": {},
   "outputs": [
    {
     "data": {
      "text/plain": [
       "array(['Male', 'Female'], dtype=object)"
      ]
     },
     "execution_count": 9,
     "metadata": {},
     "output_type": "execute_result"
    }
   ],
   "source": [
    "df[\"Sex\"].unique()"
   ]
  },
  {
   "cell_type": "code",
   "execution_count": 10,
   "id": "9f360aba",
   "metadata": {},
   "outputs": [],
   "source": [
    "df[\"Sex\"] = df[\"Sex\"].map({'Male': 1, 'Female': 0})"
   ]
  },
  {
   "cell_type": "code",
   "execution_count": 11,
   "id": "2426b598",
   "metadata": {},
   "outputs": [
    {
     "data": {
      "text/plain": [
       "array([1, 0])"
      ]
     },
     "execution_count": 11,
     "metadata": {},
     "output_type": "execute_result"
    }
   ],
   "source": [
    "df[\"Sex\"].unique()"
   ]
  },
  {
   "cell_type": "markdown",
   "id": "5ee2f94f",
   "metadata": {},
   "source": [
    "ethnic"
   ]
  },
  {
   "cell_type": "code",
   "execution_count": 12,
   "id": "0089a684",
   "metadata": {},
   "outputs": [
    {
     "data": {
      "text/plain": [
       "White/Caucasian              164\n",
       "Asian                         96\n",
       "Black or African American     68\n",
       "Multiracial                   44\n",
       "Latino                        24\n",
       "No response                    4\n",
       "Name: ethnic, dtype: int64"
      ]
     },
     "execution_count": 12,
     "metadata": {},
     "output_type": "execute_result"
    }
   ],
   "source": [
    "df[\"ethnic\"].value_counts()"
   ]
  },
  {
   "cell_type": "code",
   "execution_count": 13,
   "id": "f3bcce57",
   "metadata": {},
   "outputs": [
    {
     "data": {
      "text/html": [
       "<div>\n",
       "<style scoped>\n",
       "    .dataframe tbody tr th:only-of-type {\n",
       "        vertical-align: middle;\n",
       "    }\n",
       "\n",
       "    .dataframe tbody tr th {\n",
       "        vertical-align: top;\n",
       "    }\n",
       "\n",
       "    .dataframe thead th {\n",
       "        text-align: right;\n",
       "    }\n",
       "</style>\n",
       "<table border=\"1\" class=\"dataframe\">\n",
       "  <thead>\n",
       "    <tr style=\"text-align: right;\">\n",
       "      <th></th>\n",
       "      <th>ID</th>\n",
       "      <th>SBP</th>\n",
       "      <th>DBP</th>\n",
       "      <th>PM2.5</th>\n",
       "      <th>Temp</th>\n",
       "      <th>Rh</th>\n",
       "      <th>CO2</th>\n",
       "      <th>Age</th>\n",
       "      <th>Sex</th>\n",
       "      <th>Healthcondition</th>\n",
       "      <th>Medicine</th>\n",
       "      <th>Sleep</th>\n",
       "      <th>Caffinebeverage</th>\n",
       "      <th>Stresslevel</th>\n",
       "      <th>ethnic_Asian</th>\n",
       "      <th>ethnic_Black or African American</th>\n",
       "      <th>ethnic_Latino</th>\n",
       "      <th>ethnic_Multiracial</th>\n",
       "      <th>ethnic_No response</th>\n",
       "      <th>ethnic_White/Caucasian</th>\n",
       "    </tr>\n",
       "  </thead>\n",
       "  <tbody>\n",
       "    <tr>\n",
       "      <th>0</th>\n",
       "      <td>1</td>\n",
       "      <td>118</td>\n",
       "      <td>76</td>\n",
       "      <td>0.0</td>\n",
       "      <td>19.5</td>\n",
       "      <td>39.8</td>\n",
       "      <td>658</td>\n",
       "      <td>26</td>\n",
       "      <td>1</td>\n",
       "      <td>Very good</td>\n",
       "      <td>No</td>\n",
       "      <td>No</td>\n",
       "      <td>No</td>\n",
       "      <td>1</td>\n",
       "      <td>0</td>\n",
       "      <td>0</td>\n",
       "      <td>0</td>\n",
       "      <td>0</td>\n",
       "      <td>0</td>\n",
       "      <td>1</td>\n",
       "    </tr>\n",
       "    <tr>\n",
       "      <th>1</th>\n",
       "      <td>1</td>\n",
       "      <td>115</td>\n",
       "      <td>74</td>\n",
       "      <td>0.0</td>\n",
       "      <td>19.5</td>\n",
       "      <td>39.8</td>\n",
       "      <td>658</td>\n",
       "      <td>26</td>\n",
       "      <td>1</td>\n",
       "      <td>Very good</td>\n",
       "      <td>No</td>\n",
       "      <td>No</td>\n",
       "      <td>No</td>\n",
       "      <td>1</td>\n",
       "      <td>0</td>\n",
       "      <td>0</td>\n",
       "      <td>0</td>\n",
       "      <td>0</td>\n",
       "      <td>0</td>\n",
       "      <td>1</td>\n",
       "    </tr>\n",
       "    <tr>\n",
       "      <th>2</th>\n",
       "      <td>1</td>\n",
       "      <td>115</td>\n",
       "      <td>76</td>\n",
       "      <td>0.0</td>\n",
       "      <td>19.5</td>\n",
       "      <td>39.8</td>\n",
       "      <td>658</td>\n",
       "      <td>26</td>\n",
       "      <td>1</td>\n",
       "      <td>Very good</td>\n",
       "      <td>No</td>\n",
       "      <td>No</td>\n",
       "      <td>No</td>\n",
       "      <td>1</td>\n",
       "      <td>0</td>\n",
       "      <td>0</td>\n",
       "      <td>0</td>\n",
       "      <td>0</td>\n",
       "      <td>0</td>\n",
       "      <td>1</td>\n",
       "    </tr>\n",
       "    <tr>\n",
       "      <th>3</th>\n",
       "      <td>1</td>\n",
       "      <td>113</td>\n",
       "      <td>76</td>\n",
       "      <td>0.0</td>\n",
       "      <td>19.5</td>\n",
       "      <td>39.8</td>\n",
       "      <td>658</td>\n",
       "      <td>26</td>\n",
       "      <td>1</td>\n",
       "      <td>Very good</td>\n",
       "      <td>No</td>\n",
       "      <td>No</td>\n",
       "      <td>No</td>\n",
       "      <td>1</td>\n",
       "      <td>0</td>\n",
       "      <td>0</td>\n",
       "      <td>0</td>\n",
       "      <td>0</td>\n",
       "      <td>0</td>\n",
       "      <td>1</td>\n",
       "    </tr>\n",
       "    <tr>\n",
       "      <th>4</th>\n",
       "      <td>2</td>\n",
       "      <td>101</td>\n",
       "      <td>66</td>\n",
       "      <td>0.0</td>\n",
       "      <td>21.7</td>\n",
       "      <td>37.0</td>\n",
       "      <td>640</td>\n",
       "      <td>30</td>\n",
       "      <td>0</td>\n",
       "      <td>Excellent</td>\n",
       "      <td>No</td>\n",
       "      <td>Yes</td>\n",
       "      <td>No</td>\n",
       "      <td>0</td>\n",
       "      <td>0</td>\n",
       "      <td>0</td>\n",
       "      <td>0</td>\n",
       "      <td>1</td>\n",
       "      <td>0</td>\n",
       "      <td>0</td>\n",
       "    </tr>\n",
       "  </tbody>\n",
       "</table>\n",
       "</div>"
      ],
      "text/plain": [
       "   ID  SBP  DBP  PM2.5  Temp    Rh  CO2  Age  Sex Healthcondition Medicine  \\\n",
       "0   1  118   76    0.0  19.5  39.8  658   26    1       Very good       No   \n",
       "1   1  115   74    0.0  19.5  39.8  658   26    1       Very good       No   \n",
       "2   1  115   76    0.0  19.5  39.8  658   26    1       Very good       No   \n",
       "3   1  113   76    0.0  19.5  39.8  658   26    1       Very good       No   \n",
       "4   2  101   66    0.0  21.7  37.0  640   30    0       Excellent       No   \n",
       "\n",
       "  Sleep Caffinebeverage  Stresslevel  ethnic_Asian  \\\n",
       "0    No              No            1             0   \n",
       "1    No              No            1             0   \n",
       "2    No              No            1             0   \n",
       "3    No              No            1             0   \n",
       "4   Yes              No            0             0   \n",
       "\n",
       "   ethnic_Black or African American  ethnic_Latino  ethnic_Multiracial  \\\n",
       "0                                 0              0                   0   \n",
       "1                                 0              0                   0   \n",
       "2                                 0              0                   0   \n",
       "3                                 0              0                   0   \n",
       "4                                 0              0                   1   \n",
       "\n",
       "   ethnic_No response  ethnic_White/Caucasian  \n",
       "0                   0                       1  \n",
       "1                   0                       1  \n",
       "2                   0                       1  \n",
       "3                   0                       1  \n",
       "4                   0                       0  "
      ]
     },
     "execution_count": 13,
     "metadata": {},
     "output_type": "execute_result"
    }
   ],
   "source": [
    "df = pd.get_dummies(df, columns=['ethnic'])\n",
    "df.head()"
   ]
  },
  {
   "cell_type": "markdown",
   "id": "13d42db7",
   "metadata": {},
   "source": [
    "Healthcondition"
   ]
  },
  {
   "cell_type": "code",
   "execution_count": 14,
   "id": "3799914d",
   "metadata": {
    "scrolled": true
   },
   "outputs": [
    {
     "data": {
      "text/plain": [
       "array(['Very good', 'Excellent', 'Good', 'Fair'], dtype=object)"
      ]
     },
     "execution_count": 14,
     "metadata": {},
     "output_type": "execute_result"
    }
   ],
   "source": [
    "#won't create dummy variables, instead assign increasing numbers coz we are interested in the order\n",
    "df[\"Healthcondition\"].unique()"
   ]
  },
  {
   "cell_type": "code",
   "execution_count": 15,
   "id": "c407e4fd",
   "metadata": {},
   "outputs": [],
   "source": [
    "#we need to map strings to numbers\n",
    "df[\"Healthcondition\"] = df[\"Healthcondition\"].map({'Excellent': 3, 'Very good': 2, 'Good': 1, 'Fair': 0})"
   ]
  },
  {
   "cell_type": "code",
   "execution_count": 16,
   "id": "157c47df",
   "metadata": {
    "scrolled": true
   },
   "outputs": [
    {
     "data": {
      "text/plain": [
       "array([2, 3, 1, 0])"
      ]
     },
     "execution_count": 16,
     "metadata": {},
     "output_type": "execute_result"
    }
   ],
   "source": [
    "df[\"Healthcondition\"].unique()"
   ]
  },
  {
   "cell_type": "markdown",
   "id": "18e6eb24",
   "metadata": {},
   "source": [
    "medicine"
   ]
  },
  {
   "cell_type": "code",
   "execution_count": 17,
   "id": "9d693026",
   "metadata": {},
   "outputs": [
    {
     "data": {
      "text/plain": [
       "array(['No', 'Yes'], dtype=object)"
      ]
     },
     "execution_count": 17,
     "metadata": {},
     "output_type": "execute_result"
    }
   ],
   "source": [
    "df[\"Medicine\"].unique()"
   ]
  },
  {
   "cell_type": "code",
   "execution_count": 18,
   "id": "ad82073e",
   "metadata": {},
   "outputs": [],
   "source": [
    "df[\"Medicine\"] = df[\"Medicine\"].map({'Yes': 1, 'No': 0})"
   ]
  },
  {
   "cell_type": "code",
   "execution_count": 19,
   "id": "1073740c",
   "metadata": {},
   "outputs": [
    {
     "data": {
      "text/plain": [
       "array([0, 1])"
      ]
     },
     "execution_count": 19,
     "metadata": {},
     "output_type": "execute_result"
    }
   ],
   "source": [
    "df[\"Medicine\"].unique()"
   ]
  },
  {
   "cell_type": "markdown",
   "id": "1e3cd85c",
   "metadata": {},
   "source": [
    "sleep"
   ]
  },
  {
   "cell_type": "code",
   "execution_count": 20,
   "id": "e337ad08",
   "metadata": {},
   "outputs": [],
   "source": [
    "df[\"Sleep\"] = df[\"Sleep\"].map({'Yes': 1, 'No': 0})"
   ]
  },
  {
   "cell_type": "markdown",
   "id": "1205d607",
   "metadata": {},
   "source": [
    "caffeine beverage"
   ]
  },
  {
   "cell_type": "code",
   "execution_count": 21,
   "id": "18d7fea5",
   "metadata": {},
   "outputs": [],
   "source": [
    "df[\"Caffinebeverage\"] = df[\"Caffinebeverage\"].map({'Yes': 1, 'No': 0})"
   ]
  },
  {
   "cell_type": "code",
   "execution_count": 22,
   "id": "56305a0a",
   "metadata": {},
   "outputs": [
    {
     "data": {
      "text/html": [
       "<div>\n",
       "<style scoped>\n",
       "    .dataframe tbody tr th:only-of-type {\n",
       "        vertical-align: middle;\n",
       "    }\n",
       "\n",
       "    .dataframe tbody tr th {\n",
       "        vertical-align: top;\n",
       "    }\n",
       "\n",
       "    .dataframe thead th {\n",
       "        text-align: right;\n",
       "    }\n",
       "</style>\n",
       "<table border=\"1\" class=\"dataframe\">\n",
       "  <thead>\n",
       "    <tr style=\"text-align: right;\">\n",
       "      <th></th>\n",
       "      <th>ID</th>\n",
       "      <th>SBP</th>\n",
       "      <th>DBP</th>\n",
       "      <th>PM2.5</th>\n",
       "      <th>Temp</th>\n",
       "      <th>Rh</th>\n",
       "      <th>CO2</th>\n",
       "      <th>Age</th>\n",
       "      <th>Sex</th>\n",
       "      <th>Healthcondition</th>\n",
       "      <th>Medicine</th>\n",
       "      <th>Sleep</th>\n",
       "      <th>Caffinebeverage</th>\n",
       "      <th>Stresslevel</th>\n",
       "      <th>ethnic_Asian</th>\n",
       "      <th>ethnic_Black or African American</th>\n",
       "      <th>ethnic_Latino</th>\n",
       "      <th>ethnic_Multiracial</th>\n",
       "      <th>ethnic_No response</th>\n",
       "      <th>ethnic_White/Caucasian</th>\n",
       "    </tr>\n",
       "  </thead>\n",
       "  <tbody>\n",
       "    <tr>\n",
       "      <th>0</th>\n",
       "      <td>1</td>\n",
       "      <td>118</td>\n",
       "      <td>76</td>\n",
       "      <td>0.0</td>\n",
       "      <td>19.5</td>\n",
       "      <td>39.8</td>\n",
       "      <td>658</td>\n",
       "      <td>26</td>\n",
       "      <td>1</td>\n",
       "      <td>2</td>\n",
       "      <td>0</td>\n",
       "      <td>0</td>\n",
       "      <td>0</td>\n",
       "      <td>1</td>\n",
       "      <td>0</td>\n",
       "      <td>0</td>\n",
       "      <td>0</td>\n",
       "      <td>0</td>\n",
       "      <td>0</td>\n",
       "      <td>1</td>\n",
       "    </tr>\n",
       "    <tr>\n",
       "      <th>1</th>\n",
       "      <td>1</td>\n",
       "      <td>115</td>\n",
       "      <td>74</td>\n",
       "      <td>0.0</td>\n",
       "      <td>19.5</td>\n",
       "      <td>39.8</td>\n",
       "      <td>658</td>\n",
       "      <td>26</td>\n",
       "      <td>1</td>\n",
       "      <td>2</td>\n",
       "      <td>0</td>\n",
       "      <td>0</td>\n",
       "      <td>0</td>\n",
       "      <td>1</td>\n",
       "      <td>0</td>\n",
       "      <td>0</td>\n",
       "      <td>0</td>\n",
       "      <td>0</td>\n",
       "      <td>0</td>\n",
       "      <td>1</td>\n",
       "    </tr>\n",
       "    <tr>\n",
       "      <th>2</th>\n",
       "      <td>1</td>\n",
       "      <td>115</td>\n",
       "      <td>76</td>\n",
       "      <td>0.0</td>\n",
       "      <td>19.5</td>\n",
       "      <td>39.8</td>\n",
       "      <td>658</td>\n",
       "      <td>26</td>\n",
       "      <td>1</td>\n",
       "      <td>2</td>\n",
       "      <td>0</td>\n",
       "      <td>0</td>\n",
       "      <td>0</td>\n",
       "      <td>1</td>\n",
       "      <td>0</td>\n",
       "      <td>0</td>\n",
       "      <td>0</td>\n",
       "      <td>0</td>\n",
       "      <td>0</td>\n",
       "      <td>1</td>\n",
       "    </tr>\n",
       "    <tr>\n",
       "      <th>3</th>\n",
       "      <td>1</td>\n",
       "      <td>113</td>\n",
       "      <td>76</td>\n",
       "      <td>0.0</td>\n",
       "      <td>19.5</td>\n",
       "      <td>39.8</td>\n",
       "      <td>658</td>\n",
       "      <td>26</td>\n",
       "      <td>1</td>\n",
       "      <td>2</td>\n",
       "      <td>0</td>\n",
       "      <td>0</td>\n",
       "      <td>0</td>\n",
       "      <td>1</td>\n",
       "      <td>0</td>\n",
       "      <td>0</td>\n",
       "      <td>0</td>\n",
       "      <td>0</td>\n",
       "      <td>0</td>\n",
       "      <td>1</td>\n",
       "    </tr>\n",
       "    <tr>\n",
       "      <th>4</th>\n",
       "      <td>2</td>\n",
       "      <td>101</td>\n",
       "      <td>66</td>\n",
       "      <td>0.0</td>\n",
       "      <td>21.7</td>\n",
       "      <td>37.0</td>\n",
       "      <td>640</td>\n",
       "      <td>30</td>\n",
       "      <td>0</td>\n",
       "      <td>3</td>\n",
       "      <td>0</td>\n",
       "      <td>1</td>\n",
       "      <td>0</td>\n",
       "      <td>0</td>\n",
       "      <td>0</td>\n",
       "      <td>0</td>\n",
       "      <td>0</td>\n",
       "      <td>1</td>\n",
       "      <td>0</td>\n",
       "      <td>0</td>\n",
       "    </tr>\n",
       "  </tbody>\n",
       "</table>\n",
       "</div>"
      ],
      "text/plain": [
       "   ID  SBP  DBP  PM2.5  Temp    Rh  CO2  Age  Sex  Healthcondition  Medicine  \\\n",
       "0   1  118   76    0.0  19.5  39.8  658   26    1                2         0   \n",
       "1   1  115   74    0.0  19.5  39.8  658   26    1                2         0   \n",
       "2   1  115   76    0.0  19.5  39.8  658   26    1                2         0   \n",
       "3   1  113   76    0.0  19.5  39.8  658   26    1                2         0   \n",
       "4   2  101   66    0.0  21.7  37.0  640   30    0                3         0   \n",
       "\n",
       "   Sleep  Caffinebeverage  Stresslevel  ethnic_Asian  \\\n",
       "0      0                0            1             0   \n",
       "1      0                0            1             0   \n",
       "2      0                0            1             0   \n",
       "3      0                0            1             0   \n",
       "4      1                0            0             0   \n",
       "\n",
       "   ethnic_Black or African American  ethnic_Latino  ethnic_Multiracial  \\\n",
       "0                                 0              0                   0   \n",
       "1                                 0              0                   0   \n",
       "2                                 0              0                   0   \n",
       "3                                 0              0                   0   \n",
       "4                                 0              0                   1   \n",
       "\n",
       "   ethnic_No response  ethnic_White/Caucasian  \n",
       "0                   0                       1  \n",
       "1                   0                       1  \n",
       "2                   0                       1  \n",
       "3                   0                       1  \n",
       "4                   0                       0  "
      ]
     },
     "execution_count": 22,
     "metadata": {},
     "output_type": "execute_result"
    }
   ],
   "source": [
    "df.head()"
   ]
  },
  {
   "cell_type": "markdown",
   "id": "aad5057b",
   "metadata": {},
   "source": [
    "Check for missing values in the dataset\n"
   ]
  },
  {
   "cell_type": "code",
   "execution_count": 23,
   "id": "4ed7e419",
   "metadata": {
    "scrolled": true
   },
   "outputs": [
    {
     "name": "stdout",
     "output_type": "stream",
     "text": [
      "<class 'pandas.core.frame.DataFrame'>\n",
      "RangeIndex: 400 entries, 0 to 399\n",
      "Data columns (total 20 columns):\n",
      " #   Column                            Non-Null Count  Dtype  \n",
      "---  ------                            --------------  -----  \n",
      " 0   ID                                400 non-null    int64  \n",
      " 1   SBP                               400 non-null    int64  \n",
      " 2   DBP                               400 non-null    int64  \n",
      " 3   PM2.5                             400 non-null    float64\n",
      " 4   Temp                              400 non-null    float64\n",
      " 5   Rh                                400 non-null    float64\n",
      " 6   CO2                               400 non-null    int64  \n",
      " 7   Age                               400 non-null    int64  \n",
      " 8   Sex                               400 non-null    int64  \n",
      " 9   Healthcondition                   400 non-null    int64  \n",
      " 10  Medicine                          400 non-null    int64  \n",
      " 11  Sleep                             400 non-null    int64  \n",
      " 12  Caffinebeverage                   400 non-null    int64  \n",
      " 13  Stresslevel                       400 non-null    int64  \n",
      " 14  ethnic_Asian                      400 non-null    uint8  \n",
      " 15  ethnic_Black or African American  400 non-null    uint8  \n",
      " 16  ethnic_Latino                     400 non-null    uint8  \n",
      " 17  ethnic_Multiracial                400 non-null    uint8  \n",
      " 18  ethnic_No response                400 non-null    uint8  \n",
      " 19  ethnic_White/Caucasian            400 non-null    uint8  \n",
      "dtypes: float64(3), int64(11), uint8(6)\n",
      "memory usage: 46.2 KB\n"
     ]
    }
   ],
   "source": [
    "df.info()"
   ]
  },
  {
   "cell_type": "code",
   "execution_count": 24,
   "id": "303f44a4",
   "metadata": {
    "scrolled": true
   },
   "outputs": [
    {
     "data": {
      "text/plain": [
       "ID                                  0\n",
       "SBP                                 0\n",
       "DBP                                 0\n",
       "PM2.5                               0\n",
       "Temp                                0\n",
       "Rh                                  0\n",
       "CO2                                 0\n",
       "Age                                 0\n",
       "Sex                                 0\n",
       "Healthcondition                     0\n",
       "Medicine                            0\n",
       "Sleep                               0\n",
       "Caffinebeverage                     0\n",
       "Stresslevel                         0\n",
       "ethnic_Asian                        0\n",
       "ethnic_Black or African American    0\n",
       "ethnic_Latino                       0\n",
       "ethnic_Multiracial                  0\n",
       "ethnic_No response                  0\n",
       "ethnic_White/Caucasian              0\n",
       "dtype: int64"
      ]
     },
     "execution_count": 24,
     "metadata": {},
     "output_type": "execute_result"
    }
   ],
   "source": [
    "df.isna().sum()"
   ]
  },
  {
   "cell_type": "code",
   "execution_count": 25,
   "id": "f33fd006",
   "metadata": {},
   "outputs": [
    {
     "data": {
      "text/html": [
       "<div>\n",
       "<style scoped>\n",
       "    .dataframe tbody tr th:only-of-type {\n",
       "        vertical-align: middle;\n",
       "    }\n",
       "\n",
       "    .dataframe tbody tr th {\n",
       "        vertical-align: top;\n",
       "    }\n",
       "\n",
       "    .dataframe thead th {\n",
       "        text-align: right;\n",
       "    }\n",
       "</style>\n",
       "<table border=\"1\" class=\"dataframe\">\n",
       "  <thead>\n",
       "    <tr style=\"text-align: right;\">\n",
       "      <th></th>\n",
       "      <th>ID</th>\n",
       "      <th>SBP</th>\n",
       "      <th>DBP</th>\n",
       "      <th>PM2.5</th>\n",
       "      <th>Temp</th>\n",
       "      <th>Rh</th>\n",
       "      <th>CO2</th>\n",
       "      <th>Age</th>\n",
       "      <th>Stresslevel</th>\n",
       "    </tr>\n",
       "  </thead>\n",
       "  <tbody>\n",
       "    <tr>\n",
       "      <th>0</th>\n",
       "      <td>1</td>\n",
       "      <td>118</td>\n",
       "      <td>76</td>\n",
       "      <td>0.0</td>\n",
       "      <td>19.5</td>\n",
       "      <td>39.8</td>\n",
       "      <td>658</td>\n",
       "      <td>26</td>\n",
       "      <td>1</td>\n",
       "    </tr>\n",
       "    <tr>\n",
       "      <th>1</th>\n",
       "      <td>1</td>\n",
       "      <td>115</td>\n",
       "      <td>74</td>\n",
       "      <td>0.0</td>\n",
       "      <td>19.5</td>\n",
       "      <td>39.8</td>\n",
       "      <td>658</td>\n",
       "      <td>26</td>\n",
       "      <td>1</td>\n",
       "    </tr>\n",
       "    <tr>\n",
       "      <th>2</th>\n",
       "      <td>1</td>\n",
       "      <td>115</td>\n",
       "      <td>76</td>\n",
       "      <td>0.0</td>\n",
       "      <td>19.5</td>\n",
       "      <td>39.8</td>\n",
       "      <td>658</td>\n",
       "      <td>26</td>\n",
       "      <td>1</td>\n",
       "    </tr>\n",
       "    <tr>\n",
       "      <th>3</th>\n",
       "      <td>1</td>\n",
       "      <td>113</td>\n",
       "      <td>76</td>\n",
       "      <td>0.0</td>\n",
       "      <td>19.5</td>\n",
       "      <td>39.8</td>\n",
       "      <td>658</td>\n",
       "      <td>26</td>\n",
       "      <td>1</td>\n",
       "    </tr>\n",
       "    <tr>\n",
       "      <th>4</th>\n",
       "      <td>2</td>\n",
       "      <td>101</td>\n",
       "      <td>66</td>\n",
       "      <td>0.0</td>\n",
       "      <td>21.7</td>\n",
       "      <td>37.0</td>\n",
       "      <td>640</td>\n",
       "      <td>30</td>\n",
       "      <td>0</td>\n",
       "    </tr>\n",
       "  </tbody>\n",
       "</table>\n",
       "</div>"
      ],
      "text/plain": [
       "   ID  SBP  DBP  PM2.5  Temp    Rh  CO2  Age  Stresslevel\n",
       "0   1  118   76    0.0  19.5  39.8  658   26            1\n",
       "1   1  115   74    0.0  19.5  39.8  658   26            1\n",
       "2   1  115   76    0.0  19.5  39.8  658   26            1\n",
       "3   1  113   76    0.0  19.5  39.8  658   26            1\n",
       "4   2  101   66    0.0  21.7  37.0  640   30            0"
      ]
     },
     "execution_count": 25,
     "metadata": {},
     "output_type": "execute_result"
    }
   ],
   "source": [
    "df_num = df.iloc[:, list(range(8)) + [13]]\n",
    "df_num.head()"
   ]
  },
  {
   "cell_type": "markdown",
   "id": "b0e85fd2",
   "metadata": {},
   "source": [
    "Visualize the distribution of the variables using histograms or density plots."
   ]
  },
  {
   "cell_type": "code",
   "execution_count": 26,
   "id": "c28a791a",
   "metadata": {},
   "outputs": [
    {
     "data": {
      "image/png": "[encoded data removed]",
      "text/plain": [
       "<Figure size 1440x1080 with 9 Axes>"
      ]
     },
     "metadata": {
      "needs_background": "light"
     },
     "output_type": "display_data"
    }
   ],
   "source": [
    "df_num.hist(bins=50, figsize=(20, 15))\n",
    "\n",
    "plt.show()"
   ]
  },
  {
   "cell_type": "markdown",
   "id": "a62d658c",
   "metadata": {},
   "source": [
    "Visualize the relationship between the continuous variables and the categorical target variable using boxplots or violin plots"
   ]
  },
  {
   "cell_type": "code",
   "execution_count": 27,
   "id": "8f0695c7",
   "metadata": {
    "scrolled": false
   },
   "outputs": [
    {
     "data": {
      "image/png": "[encoded data removed]",
      "text/plain": [
       "<Figure size 1440x1080 with 9 Axes>"
      ]
     },
     "metadata": {
      "needs_background": "light"
     },
     "output_type": "display_data"
    }
   ],
   "source": [
    "# create boxplots for each continuous variable by target variable\n",
    "df_num.plot(kind='box', subplots=True, layout=(3, 3), sharex=False, sharey=False, figsize=(20, 15), by='Stresslevel')\n",
    "plt.show()"
   ]
  },
  {
   "cell_type": "markdown",
   "id": "76954c4a",
   "metadata": {},
   "source": [
    "Check for any correlations between the continuous variables using a correlation matrix heatmap."
   ]
  },
  {
   "cell_type": "code",
   "execution_count": 28,
   "id": "4883eb97",
   "metadata": {},
   "outputs": [
    {
     "data": {
      "image/png": "[encoded data removed]",
      "text/plain": [
       "<Figure size 864x576 with 2 Axes>"
      ]
     },
     "metadata": {
      "needs_background": "light"
     },
     "output_type": "display_data"
    }
   ],
   "source": [
    "corr_matrix = df_num.corr()\n",
    "\n",
    "fig, ax = plt.subplots(figsize=(12,8))\n",
    "sns.heatmap(corr_matrix, annot=True, cmap='coolwarm', ax=ax)\n",
    "plt.show()"
   ]
  },
  {
   "cell_type": "markdown",
   "id": "5d917b03",
   "metadata": {},
   "source": [
    "No significant correlations"
   ]
  },
  {
   "cell_type": "markdown",
   "id": "a9e2364f",
   "metadata": {},
   "source": [
    "## Model Building"
   ]
  },
  {
   "cell_type": "markdown",
   "id": "7ef21d45",
   "metadata": {},
   "source": [
    "training and testing (scale features)"
   ]
  },
  {
   "cell_type": "code",
   "execution_count": 30,
   "id": "45340aff",
   "metadata": {},
   "outputs": [],
   "source": [
    "from sklearn.model_selection import train_test_split\n",
    "from sklearn.preprocessing import MinMaxScaler\n",
    "\n",
    "X = df.iloc[:, [n for n in range(20) if n != 13]] #take all variables a part from target (stress) that is at index 13\n",
    "\n",
    "scaler = MinMaxScaler()\n",
    "scaler.fit(X)\n",
    "X = scaler.transform(X)\n",
    "\n",
    "y = df.iloc[:, 13]\n",
    "\n",
    "X_train, X_test, y_train, y_test = train_test_split(X, y, test_size=0.25, random_state=42)"
   ]
  },
  {
   "cell_type": "markdown",
   "id": "3b650b37",
   "metadata": {},
   "source": [
    "### Random Forest (best model)"
   ]
  },
  {
   "cell_type": "code",
   "execution_count": 31,
   "id": "e07a82a1",
   "metadata": {
    "scrolled": true
   },
   "outputs": [
    {
     "name": "stdout",
     "output_type": "stream",
     "text": [
      "Accuracy of random forest: 1.0\n",
      "              precision    recall  f1-score   support\n",
      "\n",
      "           0       1.00      1.00      1.00        22\n",
      "           1       1.00      1.00      1.00        41\n",
      "           2       1.00      1.00      1.00        26\n",
      "           3       1.00      1.00      1.00        11\n",
      "\n",
      "    accuracy                           1.00       100\n",
      "   macro avg       1.00      1.00      1.00       100\n",
      "weighted avg       1.00      1.00      1.00       100\n",
      "\n"
     ]
    }
   ],
   "source": [
    "from sklearn.ensemble import RandomForestClassifier\n",
    "from sklearn.metrics import accuracy_score, classification_report\n",
    "\n",
    "rf = RandomForestClassifier()\n",
    "rf.fit(X_train, y_train)\n",
    "y_pred_rf = rf.predict(X_test)\n",
    "accuracy_rf = accuracy_score(y_test, y_pred_rf)\n",
    "print(\"Accuracy of random forest:\", accuracy_rf)\n",
    "\n",
    "report_rf = classification_report(y_test, y_pred_rf)\n",
    "print(report_rf)"
   ]
  },
  {
   "cell_type": "markdown",
   "id": "6d349aec",
   "metadata": {},
   "source": [
    "#### save the model"
   ]
  },
  {
   "cell_type": "code",
   "execution_count": 35,
   "id": "bac22d2e",
   "metadata": {},
   "outputs": [
    {
     "data": {
      "text/plain": [
       "['habitat_random_forest_model.joblib']"
      ]
     },
     "execution_count": 35,
     "metadata": {},
     "output_type": "execute_result"
    }
   ],
   "source": [
    "import joblib\n",
    "\n",
    "filename = 'habitat_random_forest_model.joblib'\n",
    "joblib.dump(rf, filename)"
   ]
  },
  {
   "cell_type": "markdown",
   "id": "db71b230",
   "metadata": {},
   "source": [
    "#### load the model"
   ]
  },
  {
   "cell_type": "code",
   "execution_count": 36,
   "id": "7ab8f5cc",
   "metadata": {},
   "outputs": [],
   "source": [
    "# load the saved model\n",
    "loaded_model = joblib.load(filename)\n",
    "\n",
    "# use the loaded model to make predictions\n",
    "y_pred_loaded = loaded_model.predict(X_test)"
   ]
  },
  {
   "cell_type": "markdown",
   "id": "852ac217",
   "metadata": {},
   "source": [
    "### Logistic regression"
   ]
  },
  {
   "cell_type": "code",
   "execution_count": 32,
   "id": "935c4efe",
   "metadata": {},
   "outputs": [
    {
     "name": "stdout",
     "output_type": "stream",
     "text": [
      "Accuracy of logistic regression: 0.61\n",
      "              precision    recall  f1-score   support\n",
      "\n",
      "           0       0.55      0.55      0.55        22\n",
      "           1       0.58      0.73      0.65        41\n",
      "           2       0.65      0.50      0.57        26\n",
      "           3       1.00      0.55      0.71        11\n",
      "\n",
      "    accuracy                           0.61       100\n",
      "   macro avg       0.69      0.58      0.62       100\n",
      "weighted avg       0.64      0.61      0.61       100\n",
      "\n"
     ]
    }
   ],
   "source": [
    "from sklearn.linear_model import LogisticRegression\n",
    "\n",
    "lr = LogisticRegression()\n",
    "lr.fit(X_train, y_train)\n",
    "\n",
    "y_pred_lr = lr.predict(X_test)\n",
    "accuracy_lr = accuracy_score(y_test, y_pred_lr)\n",
    "print(\"Accuracy of logistic regression:\", accuracy_lr)\n",
    "\n",
    "report_lr = classification_report(y_test, y_pred_lr)\n",
    "print(report_lr)"
   ]
  },
  {
   "cell_type": "markdown",
   "id": "cd4ae3b9",
   "metadata": {},
   "source": [
    "### Deep Learning"
   ]
  },
  {
   "cell_type": "code",
   "execution_count": 33,
   "id": "bc1e0f6a",
   "metadata": {
    "scrolled": true
   },
   "outputs": [
    {
     "name": "stdout",
     "output_type": "stream",
     "text": [
      "Epoch 1 loss: 1.365\n",
      "Epoch 2 loss: 1.356\n",
      "Epoch 3 loss: 1.348\n",
      "Epoch 4 loss: 1.341\n",
      "Epoch 5 loss: 1.336\n",
      "Epoch 6 loss: 1.328\n",
      "Epoch 7 loss: 1.322\n",
      "Epoch 8 loss: 1.316\n",
      "Epoch 9 loss: 1.309\n",
      "Epoch 10 loss: 1.301\n",
      "Epoch 11 loss: 1.295\n",
      "Epoch 12 loss: 1.282\n",
      "Epoch 13 loss: 1.272\n",
      "Epoch 14 loss: 1.268\n",
      "Epoch 15 loss: 1.256\n",
      "Epoch 16 loss: 1.254\n",
      "Epoch 17 loss: 1.239\n",
      "Epoch 18 loss: 1.237\n",
      "Epoch 19 loss: 1.225\n",
      "Epoch 20 loss: 1.221\n",
      "Epoch 21 loss: 1.213\n",
      "Epoch 22 loss: 1.200\n",
      "Epoch 23 loss: 1.200\n",
      "Epoch 24 loss: 1.192\n",
      "Epoch 25 loss: 1.186\n",
      "Epoch 26 loss: 1.188\n",
      "Epoch 27 loss: 1.176\n",
      "Epoch 28 loss: 1.171\n",
      "Epoch 29 loss: 1.165\n",
      "Epoch 30 loss: 1.159\n",
      "Epoch 31 loss: 1.154\n",
      "Epoch 32 loss: 1.142\n",
      "Epoch 33 loss: 1.133\n",
      "Epoch 34 loss: 1.133\n",
      "Epoch 35 loss: 1.123\n",
      "Epoch 36 loss: 1.120\n",
      "Epoch 37 loss: 1.106\n",
      "Epoch 38 loss: 1.100\n",
      "Epoch 39 loss: 1.098\n",
      "Epoch 40 loss: 1.083\n",
      "Epoch 41 loss: 1.084\n",
      "Epoch 42 loss: 1.085\n",
      "Epoch 43 loss: 1.065\n",
      "Epoch 44 loss: 1.055\n",
      "Epoch 45 loss: 1.055\n",
      "Epoch 46 loss: 1.045\n",
      "Epoch 47 loss: 1.032\n",
      "Epoch 48 loss: 1.033\n",
      "Epoch 49 loss: 1.022\n",
      "Epoch 50 loss: 1.011\n",
      "Epoch 51 loss: 1.014\n",
      "Epoch 52 loss: 0.997\n",
      "Epoch 53 loss: 0.994\n",
      "Epoch 54 loss: 0.990\n",
      "Epoch 55 loss: 0.979\n",
      "Epoch 56 loss: 0.976\n",
      "Epoch 57 loss: 0.967\n",
      "Epoch 58 loss: 0.966\n",
      "Epoch 59 loss: 0.964\n",
      "Epoch 60 loss: 0.948\n",
      "Epoch 61 loss: 0.942\n",
      "Epoch 62 loss: 0.935\n",
      "Epoch 63 loss: 0.931\n",
      "Epoch 64 loss: 0.928\n",
      "Epoch 65 loss: 0.921\n",
      "Epoch 66 loss: 0.921\n",
      "Epoch 67 loss: 0.909\n",
      "Epoch 68 loss: 0.898\n",
      "Epoch 69 loss: 0.896\n",
      "Epoch 70 loss: 0.895\n",
      "Epoch 71 loss: 0.881\n",
      "Epoch 72 loss: 0.889\n",
      "Epoch 73 loss: 0.887\n",
      "Epoch 74 loss: 0.879\n",
      "Epoch 75 loss: 0.865\n",
      "Epoch 76 loss: 0.861\n",
      "Epoch 77 loss: 0.860\n",
      "Epoch 78 loss: 0.854\n",
      "Epoch 79 loss: 0.848\n",
      "Epoch 80 loss: 0.842\n",
      "Epoch 81 loss: 0.830\n",
      "Epoch 82 loss: 0.834\n",
      "Epoch 83 loss: 0.827\n",
      "Epoch 84 loss: 0.820\n",
      "Epoch 85 loss: 0.812\n",
      "Epoch 86 loss: 0.808\n",
      "Epoch 87 loss: 0.805\n",
      "Epoch 88 loss: 0.804\n",
      "Epoch 89 loss: 0.792\n",
      "Epoch 90 loss: 0.790\n",
      "Epoch 91 loss: 0.779\n",
      "Epoch 92 loss: 0.773\n",
      "Epoch 93 loss: 0.774\n",
      "Epoch 94 loss: 0.769\n",
      "Epoch 95 loss: 0.766\n",
      "Epoch 96 loss: 0.762\n",
      "Epoch 97 loss: 0.759\n",
      "Epoch 98 loss: 0.744\n",
      "Epoch 99 loss: 0.748\n",
      "Epoch 100 loss: 0.737\n"
     ]
    }
   ],
   "source": [
    "import torch\n",
    "import torch.nn as nn\n",
    "import torch.optim as optim\n",
    "from torch.utils.data import DataLoader, TensorDataset\n",
    "\n",
    "# convert NumPy arrays to PyTorch tensors\n",
    "X_tensor = torch.tensor(X_train, dtype=torch.float32)\n",
    "y_tensor = torch.tensor(y_train.values, dtype=torch.long)\n",
    "\n",
    "# create a PyTorch dataset and dataloader for the training data\n",
    "train_dataset = TensorDataset(X_tensor, y_tensor)\n",
    "trainloader = DataLoader(train_dataset, batch_size=64, shuffle=True)\n",
    "\n",
    "# define the neural network architecture\n",
    "class Net(nn.Module):\n",
    "    def __init__(self):\n",
    "        super(Net, self).__init__()\n",
    "        self.fc1 = nn.Linear(19, 64)\n",
    "        self.fc2 = nn.Linear(64, 32)\n",
    "        self.fc3 = nn.Linear(32, 4)\n",
    "\n",
    "    def forward(self, x):\n",
    "        x = torch.relu(self.fc1(x))\n",
    "        x = torch.relu(self.fc2(x))\n",
    "        x = self.fc3(x)\n",
    "        return x\n",
    "\n",
    "# create an instance of the neural network\n",
    "net = Net()\n",
    "\n",
    "# define the loss function and optimizer\n",
    "criterion = nn.CrossEntropyLoss()\n",
    "optimizer = optim.Adam(net.parameters(), lr=0.0005)\n",
    "\n",
    "# train the neural network\n",
    "for epoch in range(100):\n",
    "    running_loss = 0.0\n",
    "    for i, data in enumerate(trainloader, 0):\n",
    "        inputs, labels = data\n",
    "        optimizer.zero_grad()\n",
    "        outputs = net(inputs)\n",
    "        loss = criterion(outputs, labels)\n",
    "        loss.backward()\n",
    "        optimizer.step()\n",
    "        running_loss += loss.item()\n",
    "    print('Epoch %d loss: %.3f' % (epoch + 1, running_loss / len(trainloader)))"
   ]
  },
  {
   "cell_type": "code",
   "execution_count": 34,
   "id": "bd9982d4",
   "metadata": {},
   "outputs": [
    {
     "name": "stdout",
     "output_type": "stream",
     "text": [
      "              precision    recall  f1-score   support\n",
      "\n",
      "     class 0       0.67      0.55      0.60        22\n",
      "     class 1       0.69      0.88      0.77        41\n",
      "     class 2       0.83      0.58      0.68        26\n",
      "     class 3       0.75      0.82      0.78        11\n",
      "\n",
      "    accuracy                           0.72       100\n",
      "   macro avg       0.74      0.70      0.71       100\n",
      "weighted avg       0.73      0.72      0.71       100\n",
      "\n"
     ]
    }
   ],
   "source": [
    "from sklearn.metrics import classification_report\n",
    "\n",
    "# convert NumPy arrays to PyTorch tensors\n",
    "X_test_tensor = torch.tensor(X_test, dtype=torch.float32)\n",
    "y_test_tensor = torch.tensor(y_test.values, dtype=torch.long)\n",
    "\n",
    "# make predictions on the test data\n",
    "net.eval()\n",
    "with torch.no_grad():\n",
    "    y_pred_tensor = net(X_test_tensor)\n",
    "y_pred = y_pred_tensor.argmax(dim=1).numpy()\n",
    "\n",
    "# generate a classification report\n",
    "target_names = ['class 0', 'class 1', 'class 2', 'class 3']\n",
    "print(classification_report(y_test, y_pred, target_names=target_names))"
   ]
  },
  {
   "cell_type": "code",
   "execution_count": null,
   "id": "3add5833",
   "metadata": {},
   "outputs": [],
   "source": []
  }
 ],
 "metadata": {
  "kernelspec": {
   "display_name": "Python 3 (ipykernel)",
   "language": "python",
   "name": "python3"
  },
  "language_info": {
   "codemirror_mode": {
    "name": "ipython",
    "version": 3
   },
   "file_extension": ".py",
   "mimetype": "text/x-python",
   "name": "python",
   "nbconvert_exporter": "python",
   "pygments_lexer": "ipython3",
   "version": "3.9.7"
  }
 },
 "nbformat": 4,
 "nbformat_minor": 5
}