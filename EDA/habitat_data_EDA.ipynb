{
 "cells": [
  {
   "cell_type": "code",
   "execution_count": 1,
   "metadata": {
    "collapsed": true
   },
   "outputs": [],
   "source": [
    "import pandas as pd\n",
    "import numpy as np\n",
    "import matplotlib.pyplot as plt\n",
    "import seaborn as sb"
   ]
  },
  {
   "cell_type": "code",
   "execution_count": 4,
   "outputs": [],
   "source": [
    "water_dataset = pd.read_csv(\"../datasets/habitat/water_potability.csv\")"
   ],
   "metadata": {
    "collapsed": false
   }
  },
  {
   "cell_type": "code",
   "execution_count": 6,
   "outputs": [
    {
     "data": {
      "text/plain": "            ph    Hardness        Solids  Chloramines     Sulfate  \\\n0          NaN  204.890455  20791.318981     7.300212  368.516441   \n1     3.716080  129.422921  18630.057858     6.635246         NaN   \n2     8.099124  224.236259  19909.541732     9.275884         NaN   \n3     8.316766  214.373394  22018.417441     8.059332  356.886136   \n4     9.092223  181.101509  17978.986339     6.546600  310.135738   \n...        ...         ...           ...          ...         ...   \n3271  4.668102  193.681735  47580.991603     7.166639  359.948574   \n3272  7.808856  193.553212  17329.802160     8.061362         NaN   \n3273  9.419510  175.762646  33155.578218     7.350233         NaN   \n3274  5.126763  230.603758  11983.869376     6.303357         NaN   \n3275  7.874671  195.102299  17404.177061     7.509306         NaN   \n\n      Conductivity  Organic_carbon  Trihalomethanes  Turbidity  Potability  \n0       564.308654       10.379783        86.990970   2.963135           0  \n1       592.885359       15.180013        56.329076   4.500656           0  \n2       418.606213       16.868637        66.420093   3.055934           0  \n3       363.266516       18.436524       100.341674   4.628771           0  \n4       398.410813       11.558279        31.997993   4.075075           0  \n...            ...             ...              ...        ...         ...  \n3271    526.424171       13.894419        66.687695   4.435821           1  \n3272    392.449580       19.903225              NaN   2.798243           1  \n3273    432.044783       11.039070        69.845400   3.298875           1  \n3274    402.883113       11.168946        77.488213   4.708658           1  \n3275    327.459760       16.140368        78.698446   2.309149           1  \n\n[3276 rows x 10 columns]",
      "text/html": "<div>\n<style scoped>\n    .dataframe tbody tr th:only-of-type {\n        vertical-align: middle;\n    }\n\n    .dataframe tbody tr th {\n        vertical-align: top;\n    }\n\n    .dataframe thead th {\n        text-align: right;\n    }\n</style>\n<table border=\"1\" class=\"dataframe\">\n  <thead>\n    <tr style=\"text-align: right;\">\n      <th></th>\n      <th>ph</th>\n      <th>Hardness</th>\n      <th>Solids</th>\n      <th>Chloramines</th>\n      <th>Sulfate</th>\n      <th>Conductivity</th>\n      <th>Organic_carbon</th>\n      <th>Trihalomethanes</th>\n      <th>Turbidity</th>\n      <th>Potability</th>\n    </tr>\n  </thead>\n  <tbody>\n    <tr>\n      <th>0</th>\n      <td>NaN</td>\n      <td>204.890455</td>\n      <td>20791.318981</td>\n      <td>7.300212</td>\n      <td>368.516441</td>\n      <td>564.308654</td>\n      <td>10.379783</td>\n      <td>86.990970</td>\n      <td>2.963135</td>\n      <td>0</td>\n    </tr>\n    <tr>\n      <th>1</th>\n      <td>3.716080</td>\n      <td>129.422921</td>\n      <td>18630.057858</td>\n      <td>6.635246</td>\n      <td>NaN</td>\n      <td>592.885359</td>\n      <td>15.180013</td>\n      <td>56.329076</td>\n      <td>4.500656</td>\n      <td>0</td>\n    </tr>\n    <tr>\n      <th>2</th>\n      <td>8.099124</td>\n      <td>224.236259</td>\n      <td>19909.541732</td>\n      <td>9.275884</td>\n      <td>NaN</td>\n      <td>418.606213</td>\n      <td>16.868637</td>\n      <td>66.420093</td>\n      <td>3.055934</td>\n      <td>0</td>\n    </tr>\n    <tr>\n      <th>3</th>\n      <td>8.316766</td>\n      <td>214.373394</td>\n      <td>22018.417441</td>\n      <td>8.059332</td>\n      <td>356.886136</td>\n      <td>363.266516</td>\n      <td>18.436524</td>\n      <td>100.341674</td>\n      <td>4.628771</td>\n      <td>0</td>\n    </tr>\n    <tr>\n      <th>4</th>\n      <td>9.092223</td>\n      <td>181.101509</td>\n      <td>17978.986339</td>\n      <td>6.546600</td>\n      <td>310.135738</td>\n      <td>398.410813</td>\n      <td>11.558279</td>\n      <td>31.997993</td>\n      <td>4.075075</td>\n      <td>0</td>\n    </tr>\n    <tr>\n      <th>...</th>\n      <td>...</td>\n      <td>...</td>\n      <td>...</td>\n      <td>...</td>\n      <td>...</td>\n      <td>...</td>\n      <td>...</td>\n      <td>...</td>\n      <td>...</td>\n      <td>...</td>\n    </tr>\n    <tr>\n      <th>3271</th>\n      <td>4.668102</td>\n      <td>193.681735</td>\n      <td>47580.991603</td>\n      <td>7.166639</td>\n      <td>359.948574</td>\n      <td>526.424171</td>\n      <td>13.894419</td>\n      <td>66.687695</td>\n      <td>4.435821</td>\n      <td>1</td>\n    </tr>\n    <tr>\n      <th>3272</th>\n      <td>7.808856</td>\n      <td>193.553212</td>\n      <td>17329.802160</td>\n      <td>8.061362</td>\n      <td>NaN</td>\n      <td>392.449580</td>\n      <td>19.903225</td>\n      <td>NaN</td>\n      <td>2.798243</td>\n      <td>1</td>\n    </tr>\n    <tr>\n      <th>3273</th>\n      <td>9.419510</td>\n      <td>175.762646</td>\n      <td>33155.578218</td>\n      <td>7.350233</td>\n      <td>NaN</td>\n      <td>432.044783</td>\n      <td>11.039070</td>\n      <td>69.845400</td>\n      <td>3.298875</td>\n      <td>1</td>\n    </tr>\n    <tr>\n      <th>3274</th>\n      <td>5.126763</td>\n      <td>230.603758</td>\n      <td>11983.869376</td>\n      <td>6.303357</td>\n      <td>NaN</td>\n      <td>402.883113</td>\n      <td>11.168946</td>\n      <td>77.488213</td>\n      <td>4.708658</td>\n      <td>1</td>\n    </tr>\n    <tr>\n      <th>3275</th>\n      <td>7.874671</td>\n      <td>195.102299</td>\n      <td>17404.177061</td>\n      <td>7.509306</td>\n      <td>NaN</td>\n      <td>327.459760</td>\n      <td>16.140368</td>\n      <td>78.698446</td>\n      <td>2.309149</td>\n      <td>1</td>\n    </tr>\n  </tbody>\n</table>\n<p>3276 rows × 10 columns</p>\n</div>"
     },
     "execution_count": 6,
     "metadata": {},
     "output_type": "execute_result"
    }
   ],
   "source": [
    "water_dataset"
   ],
   "metadata": {
    "collapsed": false
   }
  },
  {
   "cell_type": "code",
   "execution_count": 7,
   "outputs": [
    {
     "name": "stderr",
     "output_type": "stream",
     "text": [
      "C:\\Users\\matei\\AppData\\Local\\Temp\\ipykernel_2036\\2770477849.py:1: DtypeWarning: Columns (0,27) have mixed types. Specify dtype option on import or set low_memory=False.\n",
      "  energy_dataset = pd.read_csv(\"../datasets/habitat/homeC.csv\")\n"
     ]
    }
   ],
   "source": [
    "energy_dataset = pd.read_csv(\"../datasets/habitat/homeC.csv\")"
   ],
   "metadata": {
    "collapsed": false
   }
  },
  {
   "cell_type": "code",
   "execution_count": 8,
   "outputs": [
    {
     "data": {
      "text/plain": "              time  use [kW]  gen [kW]  House overall [kW]  Dishwasher [kW]  \\\n0       1451624400  0.932833  0.003483            0.932833         0.000033   \n1       1451624401  0.934333  0.003467            0.934333         0.000000   \n2       1451624402  0.931817  0.003467            0.931817         0.000017   \n3       1451624403  1.022050  0.003483            1.022050         0.000017   \n4       1451624404  1.139400  0.003467            1.139400         0.000133   \n...            ...       ...       ...                 ...              ...   \n503906  1452128306  1.599333  0.003233            1.599333         0.000050   \n503907  1452128307  1.924267  0.003217            1.924267         0.000033   \n503908  1452128308  1.978200  0.003217            1.978200         0.000050   \n503909  1452128309  1.990950  0.003233            1.990950         0.000050   \n503910           \\       NaN       NaN                 NaN              NaN   \n\n        Furnace 1 [kW]  Furnace 2 [kW]  Home office [kW]  Fridge [kW]  \\\n0             0.020700        0.061917          0.442633     0.124150   \n1             0.020717        0.063817          0.444067     0.124000   \n2             0.020700        0.062317          0.446067     0.123533   \n3             0.106900        0.068517          0.446583     0.123133   \n4             0.236933        0.063983          0.446533     0.122850   \n...                ...             ...               ...          ...   \n503906        0.104017        0.625033          0.041750     0.005233   \n503907        0.422383        0.637733          0.042033     0.004983   \n503908        0.495667        0.620367          0.042100     0.005333   \n503909        0.494700        0.634133          0.042100     0.004917   \n503910             NaN             NaN               NaN          NaN   \n\n        Wine cellar [kW]  ...  visibility     summary  apparentTemperature  \\\n0               0.006983  ...       10.00       Clear                29.26   \n1               0.006983  ...       10.00       Clear                29.26   \n2               0.006983  ...       10.00       Clear                29.26   \n3               0.006983  ...       10.00       Clear                29.26   \n4               0.006850  ...       10.00       Clear                29.26   \n...                  ...  ...         ...         ...                  ...   \n503906          0.008433  ...        8.74  Light Rain                29.45   \n503907          0.008467  ...        8.74  Light Rain                29.45   \n503908          0.008233  ...        8.74  Light Rain                29.45   \n503909          0.008133  ...        8.74  Light Rain                29.45   \n503910               NaN  ...         NaN         NaN                  NaN   \n\n        pressure  windSpeed  cloudCover  windBearing  precipIntensity  \\\n0        1016.91       9.18  cloudCover        282.0           0.0000   \n1        1016.91       9.18  cloudCover        282.0           0.0000   \n2        1016.91       9.18  cloudCover        282.0           0.0000   \n3        1016.91       9.18  cloudCover        282.0           0.0000   \n4        1016.91       9.18  cloudCover        282.0           0.0000   \n...          ...        ...         ...          ...              ...   \n503906   1011.49       6.72        0.31        186.0           0.0101   \n503907   1011.49       6.72        0.31        186.0           0.0101   \n503908   1011.49       6.72        0.31        186.0           0.0101   \n503909   1011.49       6.72        0.31        186.0           0.0101   \n503910       NaN        NaN         NaN          NaN              NaN   \n\n        dewPoint  precipProbability  \n0          24.40               0.00  \n1          24.40               0.00  \n2          24.40               0.00  \n3          24.40               0.00  \n4          24.40               0.00  \n...          ...                ...  \n503906     31.27               0.51  \n503907     31.27               0.51  \n503908     31.27               0.51  \n503909     31.27               0.51  \n503910       NaN                NaN  \n\n[503911 rows x 32 columns]",
      "text/html": "<div>\n<style scoped>\n    .dataframe tbody tr th:only-of-type {\n        vertical-align: middle;\n    }\n\n    .dataframe tbody tr th {\n        vertical-align: top;\n    }\n\n    .dataframe thead th {\n        text-align: right;\n    }\n</style>\n<table border=\"1\" class=\"dataframe\">\n  <thead>\n    <tr style=\"text-align: right;\">\n      <th></th>\n      <th>time</th>\n      <th>use [kW]</th>\n      <th>gen [kW]</th>\n      <th>House overall [kW]</th>\n      <th>Dishwasher [kW]</th>\n      <th>Furnace 1 [kW]</th>\n      <th>Furnace 2 [kW]</th>\n      <th>Home office [kW]</th>\n      <th>Fridge [kW]</th>\n      <th>Wine cellar [kW]</th>\n      <th>...</th>\n      <th>visibility</th>\n      <th>summary</th>\n      <th>apparentTemperature</th>\n      <th>pressure</th>\n      <th>windSpeed</th>\n      <th>cloudCover</th>\n      <th>windBearing</th>\n      <th>precipIntensity</th>\n      <th>dewPoint</th>\n      <th>precipProbability</th>\n    </tr>\n  </thead>\n  <tbody>\n    <tr>\n      <th>0</th>\n      <td>1451624400</td>\n      <td>0.932833</td>\n      <td>0.003483</td>\n      <td>0.932833</td>\n      <td>0.000033</td>\n      <td>0.020700</td>\n      <td>0.061917</td>\n      <td>0.442633</td>\n      <td>0.124150</td>\n      <td>0.006983</td>\n      <td>...</td>\n      <td>10.00</td>\n      <td>Clear</td>\n      <td>29.26</td>\n      <td>1016.91</td>\n      <td>9.18</td>\n      <td>cloudCover</td>\n      <td>282.0</td>\n      <td>0.0000</td>\n      <td>24.40</td>\n      <td>0.00</td>\n    </tr>\n    <tr>\n      <th>1</th>\n      <td>1451624401</td>\n      <td>0.934333</td>\n      <td>0.003467</td>\n      <td>0.934333</td>\n      <td>0.000000</td>\n      <td>0.020717</td>\n      <td>0.063817</td>\n      <td>0.444067</td>\n      <td>0.124000</td>\n      <td>0.006983</td>\n      <td>...</td>\n      <td>10.00</td>\n      <td>Clear</td>\n      <td>29.26</td>\n      <td>1016.91</td>\n      <td>9.18</td>\n      <td>cloudCover</td>\n      <td>282.0</td>\n      <td>0.0000</td>\n      <td>24.40</td>\n      <td>0.00</td>\n    </tr>\n    <tr>\n      <th>2</th>\n      <td>1451624402</td>\n      <td>0.931817</td>\n      <td>0.003467</td>\n      <td>0.931817</td>\n      <td>0.000017</td>\n      <td>0.020700</td>\n      <td>0.062317</td>\n      <td>0.446067</td>\n      <td>0.123533</td>\n      <td>0.006983</td>\n      <td>...</td>\n      <td>10.00</td>\n      <td>Clear</td>\n      <td>29.26</td>\n      <td>1016.91</td>\n      <td>9.18</td>\n      <td>cloudCover</td>\n      <td>282.0</td>\n      <td>0.0000</td>\n      <td>24.40</td>\n      <td>0.00</td>\n    </tr>\n    <tr>\n      <th>3</th>\n      <td>1451624403</td>\n      <td>1.022050</td>\n      <td>0.003483</td>\n      <td>1.022050</td>\n      <td>0.000017</td>\n      <td>0.106900</td>\n      <td>0.068517</td>\n      <td>0.446583</td>\n      <td>0.123133</td>\n      <td>0.006983</td>\n      <td>...</td>\n      <td>10.00</td>\n      <td>Clear</td>\n      <td>29.26</td>\n      <td>1016.91</td>\n      <td>9.18</td>\n      <td>cloudCover</td>\n      <td>282.0</td>\n      <td>0.0000</td>\n      <td>24.40</td>\n      <td>0.00</td>\n    </tr>\n    <tr>\n      <th>4</th>\n      <td>1451624404</td>\n      <td>1.139400</td>\n      <td>0.003467</td>\n      <td>1.139400</td>\n      <td>0.000133</td>\n      <td>0.236933</td>\n      <td>0.063983</td>\n      <td>0.446533</td>\n      <td>0.122850</td>\n      <td>0.006850</td>\n      <td>...</td>\n      <td>10.00</td>\n      <td>Clear</td>\n      <td>29.26</td>\n      <td>1016.91</td>\n      <td>9.18</td>\n      <td>cloudCover</td>\n      <td>282.0</td>\n      <td>0.0000</td>\n      <td>24.40</td>\n      <td>0.00</td>\n    </tr>\n    <tr>\n      <th>...</th>\n      <td>...</td>\n      <td>...</td>\n      <td>...</td>\n      <td>...</td>\n      <td>...</td>\n      <td>...</td>\n      <td>...</td>\n      <td>...</td>\n      <td>...</td>\n      <td>...</td>\n      <td>...</td>\n      <td>...</td>\n      <td>...</td>\n      <td>...</td>\n      <td>...</td>\n      <td>...</td>\n      <td>...</td>\n      <td>...</td>\n      <td>...</td>\n      <td>...</td>\n      <td>...</td>\n    </tr>\n    <tr>\n      <th>503906</th>\n      <td>1452128306</td>\n      <td>1.599333</td>\n      <td>0.003233</td>\n      <td>1.599333</td>\n      <td>0.000050</td>\n      <td>0.104017</td>\n      <td>0.625033</td>\n      <td>0.041750</td>\n      <td>0.005233</td>\n      <td>0.008433</td>\n      <td>...</td>\n      <td>8.74</td>\n      <td>Light Rain</td>\n      <td>29.45</td>\n      <td>1011.49</td>\n      <td>6.72</td>\n      <td>0.31</td>\n      <td>186.0</td>\n      <td>0.0101</td>\n      <td>31.27</td>\n      <td>0.51</td>\n    </tr>\n    <tr>\n      <th>503907</th>\n      <td>1452128307</td>\n      <td>1.924267</td>\n      <td>0.003217</td>\n      <td>1.924267</td>\n      <td>0.000033</td>\n      <td>0.422383</td>\n      <td>0.637733</td>\n      <td>0.042033</td>\n      <td>0.004983</td>\n      <td>0.008467</td>\n      <td>...</td>\n      <td>8.74</td>\n      <td>Light Rain</td>\n      <td>29.45</td>\n      <td>1011.49</td>\n      <td>6.72</td>\n      <td>0.31</td>\n      <td>186.0</td>\n      <td>0.0101</td>\n      <td>31.27</td>\n      <td>0.51</td>\n    </tr>\n    <tr>\n      <th>503908</th>\n      <td>1452128308</td>\n      <td>1.978200</td>\n      <td>0.003217</td>\n      <td>1.978200</td>\n      <td>0.000050</td>\n      <td>0.495667</td>\n      <td>0.620367</td>\n      <td>0.042100</td>\n      <td>0.005333</td>\n      <td>0.008233</td>\n      <td>...</td>\n      <td>8.74</td>\n      <td>Light Rain</td>\n      <td>29.45</td>\n      <td>1011.49</td>\n      <td>6.72</td>\n      <td>0.31</td>\n      <td>186.0</td>\n      <td>0.0101</td>\n      <td>31.27</td>\n      <td>0.51</td>\n    </tr>\n    <tr>\n      <th>503909</th>\n      <td>1452128309</td>\n      <td>1.990950</td>\n      <td>0.003233</td>\n      <td>1.990950</td>\n      <td>0.000050</td>\n      <td>0.494700</td>\n      <td>0.634133</td>\n      <td>0.042100</td>\n      <td>0.004917</td>\n      <td>0.008133</td>\n      <td>...</td>\n      <td>8.74</td>\n      <td>Light Rain</td>\n      <td>29.45</td>\n      <td>1011.49</td>\n      <td>6.72</td>\n      <td>0.31</td>\n      <td>186.0</td>\n      <td>0.0101</td>\n      <td>31.27</td>\n      <td>0.51</td>\n    </tr>\n    <tr>\n      <th>503910</th>\n      <td>\\</td>\n      <td>NaN</td>\n      <td>NaN</td>\n      <td>NaN</td>\n      <td>NaN</td>\n      <td>NaN</td>\n      <td>NaN</td>\n      <td>NaN</td>\n      <td>NaN</td>\n      <td>NaN</td>\n      <td>...</td>\n      <td>NaN</td>\n      <td>NaN</td>\n      <td>NaN</td>\n      <td>NaN</td>\n      <td>NaN</td>\n      <td>NaN</td>\n      <td>NaN</td>\n      <td>NaN</td>\n      <td>NaN</td>\n      <td>NaN</td>\n    </tr>\n  </tbody>\n</table>\n<p>503911 rows × 32 columns</p>\n</div>"
     },
     "execution_count": 8,
     "metadata": {},
     "output_type": "execute_result"
    }
   ],
   "source": [
    "energy_dataset"
   ],
   "metadata": {
    "collapsed": false
   }
  },
  {
   "cell_type": "code",
   "execution_count": null,
   "outputs": [],
   "source": [],
   "metadata": {
    "collapsed": false
   }
  }
 ],
 "metadata": {
  "kernelspec": {
   "display_name": "Python 3",
   "language": "python",
   "name": "python3"
  },
  "language_info": {
   "codemirror_mode": {
    "name": "ipython",
    "version": 2
   },
   "file_extension": ".py",
   "mimetype": "text/x-python",
   "name": "python",
   "nbconvert_exporter": "python",
   "pygments_lexer": "ipython2",
   "version": "2.7.6"
  }
 },
 "nbformat": 4,
 "nbformat_minor": 0
}
